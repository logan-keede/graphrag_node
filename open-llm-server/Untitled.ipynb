{
 "cells": [
  {
   "cell_type": "code",
   "execution_count": null,
   "id": "a9e8cb92-1270-46b3-8ea1-122353c5aba2",
   "metadata": {},
   "outputs": [],
   "source": []
  }
 ],
 "metadata": {
  "kernelspec": {
   "display_name": "",
   "name": ""
  },
  "language_info": {
   "name": ""
  }
 },
 "nbformat": 4,
 "nbformat_minor": 5
}
