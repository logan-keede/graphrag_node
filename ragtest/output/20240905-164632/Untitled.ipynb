{
 "cells": [
  {
   "cell_type": "code",
   "execution_count": 16,
   "id": "5a1f9cb4-eaa5-437e-9029-746f47d286c3",
   "metadata": {
    "scrolled": true
   },
   "outputs": [
    {
     "name": "stdout",
     "output_type": "stream",
     "text": [
      "./artifacts/create_final_entities.parquet\n",
      "./artifacts/create_base_text_units.parquet\n",
      "./artifacts/create_final_documents.parquet\n",
      "./artifacts/create_final_nodes.parquet\n",
      "./artifacts/create_summarized_entities.parquet\n",
      "./artifacts/create_final_community_reports.parquet\n",
      "./artifacts/create_final_communities.parquet\n",
      "./artifacts/join_text_units_to_relationship_ids.parquet\n",
      "./artifacts/create_base_entity_graph.parquet\n",
      "./artifacts/create_final_relationships.parquet\n",
      "./artifacts/create_base_documents.parquet\n",
      "./artifacts/create_base_extracted_entities.parquet\n",
      "./artifacts/create_final_text_units.parquet\n",
      "./artifacts/join_text_units_to_entity_ids.parquet\n"
     ]
    }
   ],
   "source": [
    "import os\n",
    "\n",
    "# Set your directory path here\n",
    "directory_path = './artifacts'\n",
    "\n",
    "# Get all files in the directory\n",
    "files = [f for f in os.listdir(directory_path) if f.endswith('.parquet')]\n",
    "\n",
    "# Create full paths\n",
    "parquet_files = [os.path.join(directory_path, file) for file in files]\n",
    "\n",
    "# Print the list of parquet files\n",
    "for file in parquet_files:\n",
    "    print(file)\n",
    "    get_ipython().system_raw(f'parquet-tools show {file} > {file}.log')\n"
   ]
  },
  {
   "cell_type": "code",
   "execution_count": 1,
   "id": "ea1aa9f1-c908-410e-8f63-bed9e118851d",
   "metadata": {},
   "outputs": [
    {
     "name": "stdout",
     "output_type": "stream",
     "text": [
      "Requirement already satisfied: pylance in /home/logan/GRAG/env/lib/python3.11/site-packages (0.16.0)\n",
      "Requirement already satisfied: pyarrow>=12 in /home/logan/GRAG/env/lib/python3.11/site-packages (from pylance) (15.0.2)\n",
      "Requirement already satisfied: numpy<2,>=1.22 in /home/logan/GRAG/env/lib/python3.11/site-packages (from pylance) (1.26.4)\n"
     ]
    }
   ],
   "source": [
    "!pip install pylance"
   ]
  },
  {
   "cell_type": "code",
   "execution_count": 2,
   "id": "3fc81cdd-8b0c-42eb-8ce4-ad292f4661b3",
   "metadata": {},
   "outputs": [],
   "source": [
    "import lance\n",
    "\n",
    "import pandas as pd\n",
    "import pyarrow as pa\n",
    "import pyarrow.dataset\n",
    "\n",
    "dataset = lance.dataset(\"artifacts/lancedb/entity_description_embeddings.lance\")\n",
    "assert isinstance(dataset, pa.dataset.Dataset)"
   ]
  },
  {
   "cell_type": "code",
   "execution_count": 3,
   "id": "f1772dee-0a27-4c21-839c-984ea4e7a94c",
   "metadata": {},
   "outputs": [
    {
     "data": {
      "text/plain": [
       "<lance.dataset.LanceDataset at 0x7f4e01b10ef0>"
      ]
     },
     "execution_count": 3,
     "metadata": {},
     "output_type": "execute_result"
    }
   ],
   "source": [
    "dataset"
   ]
  },
  {
   "cell_type": "code",
   "execution_count": 4,
   "id": "4e46b656-38bf-413c-b905-bb6909183357",
   "metadata": {},
   "outputs": [
    {
     "ename": "TypeError",
     "evalue": "LanceDataset.head() missing 1 required positional argument: 'num_rows'",
     "output_type": "error",
     "traceback": [
      "\u001b[0;31m---------------------------------------------------------------------------\u001b[0m",
      "\u001b[0;31mTypeError\u001b[0m                                 Traceback (most recent call last)",
      "Cell \u001b[0;32mIn[4], line 1\u001b[0m\n\u001b[0;32m----> 1\u001b[0m \u001b[43mdataset\u001b[49m\u001b[38;5;241;43m.\u001b[39;49m\u001b[43mhead\u001b[49m\u001b[43m(\u001b[49m\u001b[43m)\u001b[49m\n",
      "\u001b[0;31mTypeError\u001b[0m: LanceDataset.head() missing 1 required positional argument: 'num_rows'"
     ]
    }
   ],
   "source": [
    "dataset.head()"
   ]
  },
  {
   "cell_type": "code",
   "execution_count": 5,
   "id": "056cd3f3-daec-4be5-bbc9-8bbc43295336",
   "metadata": {},
   "outputs": [
    {
     "name": "stdout",
     "output_type": "stream",
     "text": [
      "Collecting duckdb\n",
      "  Downloading duckdb-1.0.0-cp311-cp311-manylinux_2_17_x86_64.manylinux2014_x86_64.whl.metadata (762 bytes)\n",
      "Downloading duckdb-1.0.0-cp311-cp311-manylinux_2_17_x86_64.manylinux2014_x86_64.whl (18.5 MB)\n",
      "\u001b[2K   \u001b[38;2;114;156;31m━━━━━━━━━━━━━━━━━━━━━━━━━━━━━━━━━━━━━━━━\u001b[0m \u001b[32m18.5/18.5 MB\u001b[0m \u001b[31m3.5 MB/s\u001b[0m eta \u001b[36m0:00:00\u001b[0mm eta \u001b[36m0:00:01\u001b[0m[36m0:00:01\u001b[0m\n",
      "\u001b[?25hInstalling collected packages: duckdb\n",
      "Successfully installed duckdb-1.0.0\n"
     ]
    }
   ],
   "source": [
    "!pip install duckdb\n"
   ]
  },
  {
   "cell_type": "code",
   "execution_count": 7,
   "id": "7326f63f-0926-499a-b4df-64e5bdcc08c9",
   "metadata": {},
   "outputs": [
    {
     "data": {
      "text/html": [
       "<div>\n",
       "<style scoped>\n",
       "    .dataframe tbody tr th:only-of-type {\n",
       "        vertical-align: middle;\n",
       "    }\n",
       "\n",
       "    .dataframe tbody tr th {\n",
       "        vertical-align: top;\n",
       "    }\n",
       "\n",
       "    .dataframe thead th {\n",
       "        text-align: right;\n",
       "    }\n",
       "</style>\n",
       "<table border=\"1\" class=\"dataframe\">\n",
       "  <thead>\n",
       "    <tr style=\"text-align: right;\">\n",
       "      <th></th>\n",
       "      <th>id</th>\n",
       "      <th>text</th>\n",
       "      <th>vector</th>\n",
       "      <th>attributes</th>\n",
       "    </tr>\n",
       "  </thead>\n",
       "  <tbody>\n",
       "    <tr>\n",
       "      <th>0</th>\n",
       "      <td>4119fd06010c494caa07f439b333f4c5</td>\n",
       "      <td>Marley is a character in the story</td>\n",
       "      <td>[0.5971635, -0.3727771, -4.3415866, -1.2993371...</td>\n",
       "      <td>{\"title\": \"MARLEY\"}</td>\n",
       "    </tr>\n",
       "    <tr>\n",
       "      <th>1</th>\n",
       "      <td>d3835bf3dda84ead99deadbeac5d0d7d</td>\n",
       "      <td>None</td>\n",
       "      <td>[0.4889805, -0.9968869, -4.410294, -1.5178258,...</td>\n",
       "      <td>{\"title\": \"MARLEY'S GHOST\"}</td>\n",
       "    </tr>\n",
       "    <tr>\n",
       "      <th>2</th>\n",
       "      <td>b45241d70f0e43fca764df95b2b81f77</td>\n",
       "      <td>Scrooge is a character in the story</td>\n",
       "      <td>[-0.66123223, 0.4353053, -4.78931, -1.8805606,...</td>\n",
       "      <td>{\"title\": \"SCROOGE\"}</td>\n",
       "    </tr>\n",
       "  </tbody>\n",
       "</table>\n",
       "</div>"
      ],
      "text/plain": [
       "                                 id                                 text  \\\n",
       "0  4119fd06010c494caa07f439b333f4c5   Marley is a character in the story   \n",
       "1  d3835bf3dda84ead99deadbeac5d0d7d                                 None   \n",
       "2  b45241d70f0e43fca764df95b2b81f77  Scrooge is a character in the story   \n",
       "\n",
       "                                              vector  \\\n",
       "0  [0.5971635, -0.3727771, -4.3415866, -1.2993371...   \n",
       "1  [0.4889805, -0.9968869, -4.410294, -1.5178258,...   \n",
       "2  [-0.66123223, 0.4353053, -4.78931, -1.8805606,...   \n",
       "\n",
       "                    attributes  \n",
       "0          {\"title\": \"MARLEY\"}  \n",
       "1  {\"title\": \"MARLEY'S GHOST\"}  \n",
       "2         {\"title\": \"SCROOGE\"}  "
      ]
     },
     "execution_count": 7,
     "metadata": {},
     "output_type": "execute_result"
    }
   ],
   "source": [
    "import duckdb\n",
    "duckdb.query(\"SELECT * FROM dataset\").to_df()"
   ]
  },
  {
   "cell_type": "code",
   "execution_count": null,
   "id": "6c988c5c-8bfc-4e35-bcbc-dd855e256fb1",
   "metadata": {},
   "outputs": [],
   "source": []
  }
 ],
 "metadata": {
  "kernelspec": {
   "display_name": "Python 3 (ipykernel)",
   "language": "python",
   "name": "python3"
  },
  "language_info": {
   "codemirror_mode": {
    "name": "ipython",
    "version": 3
   },
   "file_extension": ".py",
   "mimetype": "text/x-python",
   "name": "python",
   "nbconvert_exporter": "python",
   "pygments_lexer": "ipython3",
   "version": "3.11.2"
  }
 },
 "nbformat": 4,
 "nbformat_minor": 5
}
